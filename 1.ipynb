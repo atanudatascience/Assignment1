{
 "cells": [
  {
   "cell_type": "code",
   "execution_count": 12,
   "id": "884a86c9",
   "metadata": {},
   "outputs": [],
   "source": [
    "s =\"this is My First Python programming class and i am learNING python string and its function\"\n"
   ]
  },
  {
   "cell_type": "code",
   "execution_count": 14,
   "id": "266eb5d9",
   "metadata": {},
   "outputs": [
    {
     "data": {
      "text/plain": [
       "'tssyityopgmncsa alrNph rgni ni'"
      ]
     },
     "execution_count": 14,
     "metadata": {},
     "output_type": "execute_result"
    }
   ],
   "source": [
    "s[0:300:3]"
   ]
  },
  {
   "cell_type": "code",
   "execution_count": 16,
   "id": "bfc45b0c",
   "metadata": {},
   "outputs": [
    {
     "data": {
      "text/plain": [
       "'noitcnuf sti dna gnirts nohtyp GNINrael ma i dna ssalc gnimmargorp nohtyP tsriF yM si siht'"
      ]
     },
     "execution_count": 16,
     "metadata": {},
     "output_type": "execute_result"
    }
   ],
   "source": [
    "s[-1:-299:-1]"
   ]
  },
  {
   "cell_type": "code",
   "execution_count": 18,
   "id": "312646a3",
   "metadata": {},
   "outputs": [],
   "source": [
    "a=s.upper()"
   ]
  },
  {
   "cell_type": "code",
   "execution_count": 19,
   "id": "6316188d",
   "metadata": {},
   "outputs": [
    {
     "data": {
      "text/plain": [
       "'THIS IS MY FIRST PYTHON PROGRAMMING CLASS AND I AM LEARNING PYTHON STRING AND ITS FUNCTION'"
      ]
     },
     "execution_count": 19,
     "metadata": {},
     "output_type": "execute_result"
    }
   ],
   "source": [
    "a"
   ]
  },
  {
   "cell_type": "code",
   "execution_count": 20,
   "id": "9d6b2eb2",
   "metadata": {},
   "outputs": [
    {
     "data": {
      "text/plain": [
       "['THIS',\n",
       " 'IS',\n",
       " 'MY',\n",
       " 'FIRST',\n",
       " 'PYTHON',\n",
       " 'PROGRAMMING',\n",
       " 'CLASS',\n",
       " 'AND',\n",
       " 'I',\n",
       " 'AM',\n",
       " 'LEARNING',\n",
       " 'PYTHON',\n",
       " 'STRING',\n",
       " 'AND',\n",
       " 'ITS',\n",
       " 'FUNCTION']"
      ]
     },
     "execution_count": 20,
     "metadata": {},
     "output_type": "execute_result"
    }
   ],
   "source": [
    "a.split(\" \")"
   ]
  },
  {
   "cell_type": "code",
   "execution_count": 21,
   "id": "3d36c13a",
   "metadata": {},
   "outputs": [],
   "source": [
    "a=s.lower()"
   ]
  },
  {
   "cell_type": "code",
   "execution_count": 22,
   "id": "f9e6cb67",
   "metadata": {},
   "outputs": [
    {
     "data": {
      "text/plain": [
       "'this is my first python programming class and i am learning python string and its function'"
      ]
     },
     "execution_count": 22,
     "metadata": {},
     "output_type": "execute_result"
    }
   ],
   "source": [
    "a"
   ]
  },
  {
   "cell_type": "code",
   "execution_count": 23,
   "id": "3d48a8e2",
   "metadata": {},
   "outputs": [],
   "source": [
    "b=s.capitalize()"
   ]
  },
  {
   "cell_type": "code",
   "execution_count": 24,
   "id": "f73904c6",
   "metadata": {},
   "outputs": [
    {
     "data": {
      "text/plain": [
       "'This is my first python programming class and i am learning python string and its function'"
      ]
     },
     "execution_count": 24,
     "metadata": {},
     "output_type": "execute_result"
    }
   ],
   "source": [
    "b"
   ]
  },
  {
   "cell_type": "code",
   "execution_count": 1,
   "id": "14f00b8a",
   "metadata": {},
   "outputs": [],
   "source": [
    "answer=\"The Python isalpha() method returns true if a string only contains letters.Python isalnum() only returns true if a string contains alphanumeric characters, without symbols\"\n"
   ]
  },
  {
   "cell_type": "code",
   "execution_count": 2,
   "id": "6718c440",
   "metadata": {},
   "outputs": [
    {
     "data": {
      "text/plain": [
       "'The Python isalpha() method returns true if a string only contains letters.Python isalnum() only returns true if a string contains alphanumeric characters, without symbols'"
      ]
     },
     "execution_count": 2,
     "metadata": {},
     "output_type": "execute_result"
    }
   ],
   "source": [
    "answer"
   ]
  },
  {
   "cell_type": "code",
   "execution_count": 26,
   "id": "7bf9e45a",
   "metadata": {},
   "outputs": [],
   "source": [
    "str = 'xyz\\t12345\\tabc'"
   ]
  },
  {
   "cell_type": "code",
   "execution_count": 27,
   "id": "59b5a294",
   "metadata": {},
   "outputs": [],
   "source": [
    "result=str.expandtabs()"
   ]
  },
  {
   "cell_type": "code",
   "execution_count": 28,
   "id": "5a9e835f",
   "metadata": {},
   "outputs": [
    {
     "name": "stdout",
     "output_type": "stream",
     "text": [
      "xyz     12345   abc\n"
     ]
    }
   ],
   "source": [
    "print(result)"
   ]
  },
  {
   "cell_type": "code",
   "execution_count": 29,
   "id": "3b0a51b6",
   "metadata": {},
   "outputs": [],
   "source": [
    "x=\" Atanu   \""
   ]
  },
  {
   "cell_type": "code",
   "execution_count": 30,
   "id": "3c7ae09c",
   "metadata": {},
   "outputs": [
    {
     "data": {
      "text/plain": [
       "'Atanu'"
      ]
     },
     "execution_count": 30,
     "metadata": {},
     "output_type": "execute_result"
    }
   ],
   "source": [
    "x.strip()"
   ]
  },
  {
   "cell_type": "code",
   "execution_count": 31,
   "id": "13bfde3a",
   "metadata": {},
   "outputs": [
    {
     "data": {
      "text/plain": [
       "'Atanu   '"
      ]
     },
     "execution_count": 31,
     "metadata": {},
     "output_type": "execute_result"
    }
   ],
   "source": [
    "x.lstrip()"
   ]
  },
  {
   "cell_type": "code",
   "execution_count": 32,
   "id": "9cd09478",
   "metadata": {},
   "outputs": [
    {
     "data": {
      "text/plain": [
       "' Atanu'"
      ]
     },
     "execution_count": 32,
     "metadata": {},
     "output_type": "execute_result"
    }
   ],
   "source": [
    "x.rstrip()"
   ]
  },
  {
   "cell_type": "code",
   "execution_count": 33,
   "id": "7092d5cd",
   "metadata": {},
   "outputs": [
    {
     "data": {
      "text/plain": [
       "'Atbnu'"
      ]
     },
     "execution_count": 33,
     "metadata": {},
     "output_type": "execute_result"
    }
   ],
   "source": [
    "x.strip().replace(\"a\",\"b\")"
   ]
  },
  {
   "cell_type": "code",
   "execution_count": 35,
   "id": "d19d2af0",
   "metadata": {},
   "outputs": [],
   "source": [
    "string = \"Atanu Sarkar\"\n",
    "  \n",
    "new_string = string.center(24, '#')\n",
    "  \n"
   ]
  },
  {
   "cell_type": "code",
   "execution_count": 36,
   "id": "59020dfa",
   "metadata": {},
   "outputs": [
    {
     "data": {
      "text/plain": [
       "'######Atanu Sarkar######'"
      ]
     },
     "execution_count": 36,
     "metadata": {},
     "output_type": "execute_result"
    }
   ],
   "source": [
    "new_string"
   ]
  },
  {
   "cell_type": "code",
   "execution_count": 37,
   "id": "b2e71cf7",
   "metadata": {},
   "outputs": [
    {
     "ename": "SyntaxError",
     "evalue": "invalid syntax (Temp/ipykernel_17032/2387591796.py, line 1)",
     "output_type": "error",
     "traceback": [
      "\u001b[1;36m  File \u001b[1;32m\"C:\\Users\\atanu\\AppData\\Local\\Temp/ipykernel_17032/2387591796.py\"\u001b[1;36m, line \u001b[1;32m1\u001b[0m\n\u001b[1;33m    A compiler takes entire program and converts it into object code which is typically stored in a file.\u001b[0m\n\u001b[1;37m      ^\u001b[0m\n\u001b[1;31mSyntaxError\u001b[0m\u001b[1;31m:\u001b[0m invalid syntax\n"
     ]
    }
   ],
   "source": [
    "A compiler takes entire program and converts it into object code which is typically stored in a file. \n",
    "The object code is also referred as binary code and can be directly executed by the machine after linking. \n",
    "Examples of compiled programming languages are C and C++. \n",
    "\n",
    "An Interpreter directly executes instructions written in a programming or scripting language without previously \n",
    "converting them to an object code or machine code. Examples of interpreted languages are Perl, Python and Matlab.\n",
    "In general, interpreted programs run slower than the compiled programs. "
   ]
  },
  {
   "cell_type": "code",
   "execution_count": 41,
   "id": "7dafb5b4",
   "metadata": {},
   "outputs": [
    {
     "ename": "SyntaxError",
     "evalue": "invalid syntax (Temp/ipykernel_17032/3725456229.py, line 1)",
     "output_type": "error",
     "traceback": [
      "\u001b[1;36m  File \u001b[1;32m\"C:\\Users\\atanu\\AppData\\Local\\Temp/ipykernel_17032/3725456229.py\"\u001b[1;36m, line \u001b[1;32m1\u001b[0m\n\u001b[1;33m    Python is an interpreted language, which means the source code of a Python program is converted into bytecode that is then\u001b[0m\n\u001b[1;37m                 ^\u001b[0m\n\u001b[1;31mSyntaxError\u001b[0m\u001b[1;31m:\u001b[0m invalid syntax\n"
     ]
    }
   ],
   "source": [
    "Python is an interpreted language, which means the source code of a Python program is converted into bytecode that is then \n",
    "executed by the Python virtual machine. Python is different from major compiled languages, such as C and C + +, as Python \n",
    "code is not required to be built and linked like code for these languages"
   ]
  },
  {
   "cell_type": "code",
   "execution_count": 3,
   "id": "122dd7f7",
   "metadata": {},
   "outputs": [],
   "source": [
    "s=\"My Name is Atanu Sarkar\""
   ]
  },
  {
   "cell_type": "code",
   "execution_count": 6,
   "id": "3ccc51e5",
   "metadata": {},
   "outputs": [
    {
     "data": {
      "text/plain": [
       "'rka nt iea'"
      ]
     },
     "execution_count": 6,
     "metadata": {},
     "output_type": "execute_result"
    }
   ],
   "source": [
    "s[-1:-20:-2]"
   ]
  },
  {
   "cell_type": "code",
   "execution_count": 5,
   "id": "dede8308",
   "metadata": {},
   "outputs": [
    {
     "data": {
      "text/plain": [
       "'M aei '"
      ]
     },
     "execution_count": 5,
     "metadata": {},
     "output_type": "execute_result"
    }
   ],
   "source": [
    "s[0:11:2]"
   ]
  },
  {
   "cell_type": "code",
   "execution_count": null,
   "id": "a8366e18",
   "metadata": {},
   "outputs": [],
   "source": []
  },
  {
   "cell_type": "code",
   "execution_count": null,
   "id": "01cf2b95",
   "metadata": {},
   "outputs": [],
   "source": []
  }
 ],
 "metadata": {
  "kernelspec": {
   "display_name": "Python 3 (ipykernel)",
   "language": "python",
   "name": "python3"
  },
  "language_info": {
   "codemirror_mode": {
    "name": "ipython",
    "version": 3
   },
   "file_extension": ".py",
   "mimetype": "text/x-python",
   "name": "python",
   "nbconvert_exporter": "python",
   "pygments_lexer": "ipython3",
   "version": "3.9.7"
  },
  "widgets": {
   "application/vnd.jupyter.widget-state+json": {
    "state": {},
    "version_major": 2,
    "version_minor": 0
   }
  }
 },
 "nbformat": 4,
 "nbformat_minor": 5
}
